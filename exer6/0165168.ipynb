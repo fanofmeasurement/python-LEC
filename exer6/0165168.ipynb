{
 "cells": [
  {
   "cell_type": "markdown",
   "metadata": {},
   "source": [
    "## 第六次练习"
   ]
  },
  {
   "cell_type": "markdown",
   "metadata": {},
   "source": [
    "+ 请务必交到exer6文件夹下，**谢绝交到master下**\n",
    "+ 请不要改动任何文件，拜托\n",
    "+ 请在12月4日前提交。"
   ]
  },
  {
   "cell_type": "markdown",
   "metadata": {},
   "source": [
    "请写一下姓名和学号：\n",
    "+ 姓名  林子涵\n",
    "+ 学号  0165168"
   ]
  },
  {
   "cell_type": "markdown",
   "metadata": {},
   "source": [
    "### 请建立一个数据框，列出你在双十一购买的至少五样物品。\n",
    "用它们的名称作为index的label，在列里列出这些物品（数据可以是虚拟的）的：\n",
    "+ 价格\n",
    "+ 购买的数量\n",
    "+ 收到的时间（类似1113即可，表示11月13日收到）\n",
    "+ 你的评价（从1到5，1表示很不好，5表示很好）"
   ]
  },
  {
   "cell_type": "code",
   "execution_count": 2,
   "metadata": {
    "collapsed": true
   },
   "outputs": [],
   "source": [
    "import pandas as pd"
   ]
  },
  {
   "cell_type": "code",
   "execution_count": 3,
   "metadata": {
    "collapsed": true
   },
   "outputs": [],
   "source": [
    "from pandas import Series, DataFrame"
   ]
  },
  {
   "cell_type": "code",
   "execution_count": 15,
   "metadata": {
    "collapsed": false
   },
   "outputs": [
    {
     "data": {
      "text/html": [
       "<div>\n",
       "<table border=\"1\" class=\"dataframe\">\n",
       "  <thead>\n",
       "    <tr style=\"text-align: right;\">\n",
       "      <th></th>\n",
       "      <th>Amount</th>\n",
       "      <th>Price</th>\n",
       "      <th>Time</th>\n",
       "      <th>assess</th>\n",
       "    </tr>\n",
       "  </thead>\n",
       "  <tbody>\n",
       "    <tr>\n",
       "      <th>eyeglass</th>\n",
       "      <td>1</td>\n",
       "      <td>316.0</td>\n",
       "      <td>1116</td>\n",
       "      <td>4</td>\n",
       "    </tr>\n",
       "    <tr>\n",
       "      <th>jacket</th>\n",
       "      <td>1</td>\n",
       "      <td>799.0</td>\n",
       "      <td>1113</td>\n",
       "      <td>4</td>\n",
       "    </tr>\n",
       "    <tr>\n",
       "      <th>notebook</th>\n",
       "      <td>6</td>\n",
       "      <td>25.8</td>\n",
       "      <td>1112</td>\n",
       "      <td>3</td>\n",
       "    </tr>\n",
       "    <tr>\n",
       "      <th>pants</th>\n",
       "      <td>2</td>\n",
       "      <td>159.0</td>\n",
       "      <td>1116</td>\n",
       "      <td>5</td>\n",
       "    </tr>\n",
       "    <tr>\n",
       "      <th>umbrella</th>\n",
       "      <td>1</td>\n",
       "      <td>39.0</td>\n",
       "      <td>1113</td>\n",
       "      <td>1</td>\n",
       "    </tr>\n",
       "  </tbody>\n",
       "</table>\n",
       "</div>"
      ],
      "text/plain": [
       "          Amount  Price  Time  assess\n",
       "eyeglass       1  316.0  1116       4\n",
       "jacket         1  799.0  1113       4\n",
       "notebook       6   25.8  1112       3\n",
       "pants          2  159.0  1116       5\n",
       "umbrella       1   39.0  1113       1"
      ]
     },
     "execution_count": 15,
     "metadata": {},
     "output_type": "execute_result"
    }
   ],
   "source": [
    "shopping = {'Price': {'notebook': 25.8, 'eyeglass': 316,'umbrella': 39,'jacket': 799,'pants': 159},\n",
    "       'Amount': {\"notebook\": 6, 'eyeglass': 1,'umbrella': 1,'jacket': 1,'pants': 2},\n",
    "       'Time': {\"notebook\": 1112, \"eyeglass\": 1116,\"umbrella\": 1113,\"jacket\": 1113,\"pants\": 1116},\n",
    "       'assess': {\"notebook\": 3, \"eyeglass\": 4,\"umbrella\": 1,\"jacket\": 4,\"pants\": 5},\n",
    "      }\n",
    "frame1 = pd.DataFrame(shopping)\n",
    "frame1"
   ]
  },
  {
   "cell_type": "markdown",
   "metadata": {},
   "source": [
    "#### 用index的label读取某一个物品数据"
   ]
  },
  {
   "cell_type": "code",
   "execution_count": 16,
   "metadata": {
    "collapsed": false
   },
   "outputs": [
    {
     "data": {
      "text/plain": [
       "Amount       2.0\n",
       "Price      159.0\n",
       "Time      1116.0\n",
       "assess       5.0\n",
       "Name: pants, dtype: float64"
      ]
     },
     "execution_count": 16,
     "metadata": {},
     "output_type": "execute_result"
    }
   ],
   "source": [
    "frame1.loc[\"pants\"]"
   ]
  },
  {
   "cell_type": "markdown",
   "metadata": {},
   "source": [
    "#### 选择价格>200的物品"
   ]
  },
  {
   "cell_type": "code",
   "execution_count": 17,
   "metadata": {
    "collapsed": false
   },
   "outputs": [
    {
     "data": {
      "text/html": [
       "<div>\n",
       "<table border=\"1\" class=\"dataframe\">\n",
       "  <thead>\n",
       "    <tr style=\"text-align: right;\">\n",
       "      <th></th>\n",
       "      <th>Amount</th>\n",
       "      <th>Price</th>\n",
       "      <th>Time</th>\n",
       "      <th>assess</th>\n",
       "    </tr>\n",
       "  </thead>\n",
       "  <tbody>\n",
       "    <tr>\n",
       "      <th>eyeglass</th>\n",
       "      <td>1</td>\n",
       "      <td>316.0</td>\n",
       "      <td>1116</td>\n",
       "      <td>4</td>\n",
       "    </tr>\n",
       "    <tr>\n",
       "      <th>jacket</th>\n",
       "      <td>1</td>\n",
       "      <td>799.0</td>\n",
       "      <td>1113</td>\n",
       "      <td>4</td>\n",
       "    </tr>\n",
       "  </tbody>\n",
       "</table>\n",
       "</div>"
      ],
      "text/plain": [
       "          Amount  Price  Time  assess\n",
       "eyeglass       1  316.0  1116       4\n",
       "jacket         1  799.0  1113       4"
      ]
     },
     "execution_count": 17,
     "metadata": {},
     "output_type": "execute_result"
    }
   ],
   "source": [
    "frame1[frame1[\"Price\"] > 200]"
   ]
  },
  {
   "cell_type": "markdown",
   "metadata": {},
   "source": [
    "#### 挑选其中和学习有关的物品，构成一个子集"
   ]
  },
  {
   "cell_type": "code",
   "execution_count": 18,
   "metadata": {
    "collapsed": false
   },
   "outputs": [
    {
     "data": {
      "text/html": [
       "<div>\n",
       "<table border=\"1\" class=\"dataframe\">\n",
       "  <thead>\n",
       "    <tr style=\"text-align: right;\">\n",
       "      <th></th>\n",
       "      <th>Amount</th>\n",
       "      <th>Price</th>\n",
       "      <th>Time</th>\n",
       "      <th>assess</th>\n",
       "    </tr>\n",
       "  </thead>\n",
       "  <tbody>\n",
       "    <tr>\n",
       "      <th>eyeglass</th>\n",
       "      <td>1</td>\n",
       "      <td>316.0</td>\n",
       "      <td>1116</td>\n",
       "      <td>4</td>\n",
       "    </tr>\n",
       "    <tr>\n",
       "      <th>notebook</th>\n",
       "      <td>6</td>\n",
       "      <td>25.8</td>\n",
       "      <td>1112</td>\n",
       "      <td>3</td>\n",
       "    </tr>\n",
       "  </tbody>\n",
       "</table>\n",
       "</div>"
      ],
      "text/plain": [
       "          Amount  Price  Time  assess\n",
       "eyeglass       1  316.0  1116       4\n",
       "notebook       6   25.8  1112       3"
      ]
     },
     "execution_count": 18,
     "metadata": {},
     "output_type": "execute_result"
    }
   ],
   "source": [
    "frame1.loc[[\"eyeglass\",\"notebook\"],['Amount',\"Price\",\"Time\",'assess']]"
   ]
  },
  {
   "cell_type": "markdown",
   "metadata": {},
   "source": [
    "#### 读取评价那列的数据"
   ]
  },
  {
   "cell_type": "code",
   "execution_count": 19,
   "metadata": {
    "collapsed": false
   },
   "outputs": [
    {
     "data": {
      "text/plain": [
       "eyeglass    4\n",
       "jacket      4\n",
       "notebook    3\n",
       "pants       5\n",
       "umbrella    1\n",
       "Name: assess, dtype: int64"
      ]
     },
     "execution_count": 19,
     "metadata": {},
     "output_type": "execute_result"
    }
   ],
   "source": [
    "frame1['assess']"
   ]
  },
  {
   "cell_type": "markdown",
   "metadata": {},
   "source": [
    "#### 根据label对数据框重新排序，按照对你的迫切程度"
   ]
  },
  {
   "cell_type": "code",
   "execution_count": 20,
   "metadata": {
    "collapsed": false
   },
   "outputs": [
    {
     "data": {
      "text/html": [
       "<div>\n",
       "<table border=\"1\" class=\"dataframe\">\n",
       "  <thead>\n",
       "    <tr style=\"text-align: right;\">\n",
       "      <th></th>\n",
       "      <th>Amount</th>\n",
       "      <th>Price</th>\n",
       "      <th>Time</th>\n",
       "      <th>assess</th>\n",
       "    </tr>\n",
       "  </thead>\n",
       "  <tbody>\n",
       "    <tr>\n",
       "      <th>eyeglass</th>\n",
       "      <td>1</td>\n",
       "      <td>316.0</td>\n",
       "      <td>1116</td>\n",
       "      <td>4</td>\n",
       "    </tr>\n",
       "    <tr>\n",
       "      <th>pants</th>\n",
       "      <td>2</td>\n",
       "      <td>159.0</td>\n",
       "      <td>1116</td>\n",
       "      <td>5</td>\n",
       "    </tr>\n",
       "    <tr>\n",
       "      <th>umbrella</th>\n",
       "      <td>1</td>\n",
       "      <td>39.0</td>\n",
       "      <td>1113</td>\n",
       "      <td>1</td>\n",
       "    </tr>\n",
       "    <tr>\n",
       "      <th>jacket</th>\n",
       "      <td>1</td>\n",
       "      <td>799.0</td>\n",
       "      <td>1113</td>\n",
       "      <td>4</td>\n",
       "    </tr>\n",
       "    <tr>\n",
       "      <th>notebook</th>\n",
       "      <td>6</td>\n",
       "      <td>25.8</td>\n",
       "      <td>1112</td>\n",
       "      <td>3</td>\n",
       "    </tr>\n",
       "  </tbody>\n",
       "</table>\n",
       "</div>"
      ],
      "text/plain": [
       "          Amount  Price  Time  assess\n",
       "eyeglass       1  316.0  1116       4\n",
       "pants          2  159.0  1116       5\n",
       "umbrella       1   39.0  1113       1\n",
       "jacket         1  799.0  1113       4\n",
       "notebook       6   25.8  1112       3"
      ]
     },
     "execution_count": 20,
     "metadata": {},
     "output_type": "execute_result"
    }
   ],
   "source": [
    "frame2 = frame1.reindex(['eyeglass', 'pants', 'umbrella', 'jacket','notebook'])\n",
    "frame2"
   ]
  },
  {
   "cell_type": "markdown",
   "metadata": {},
   "source": [
    "#### 生成一个series，记录这些物品的快递费，然后加到价格上"
   ]
  },
  {
   "cell_type": "code",
   "execution_count": 21,
   "metadata": {
    "collapsed": false
   },
   "outputs": [
    {
     "data": {
      "text/html": [
       "<div>\n",
       "<table border=\"1\" class=\"dataframe\">\n",
       "  <thead>\n",
       "    <tr style=\"text-align: right;\">\n",
       "      <th></th>\n",
       "      <th>Amount</th>\n",
       "      <th>Price</th>\n",
       "      <th>Time</th>\n",
       "      <th>assess</th>\n",
       "      <th>express</th>\n",
       "      <th>price_after</th>\n",
       "    </tr>\n",
       "  </thead>\n",
       "  <tbody>\n",
       "    <tr>\n",
       "      <th>eyeglass</th>\n",
       "      <td>1</td>\n",
       "      <td>316.0</td>\n",
       "      <td>1116</td>\n",
       "      <td>4</td>\n",
       "      <td>10</td>\n",
       "      <td>326.0</td>\n",
       "    </tr>\n",
       "    <tr>\n",
       "      <th>pants</th>\n",
       "      <td>2</td>\n",
       "      <td>159.0</td>\n",
       "      <td>1116</td>\n",
       "      <td>5</td>\n",
       "      <td>0</td>\n",
       "      <td>159.0</td>\n",
       "    </tr>\n",
       "    <tr>\n",
       "      <th>umbrella</th>\n",
       "      <td>1</td>\n",
       "      <td>39.0</td>\n",
       "      <td>1113</td>\n",
       "      <td>1</td>\n",
       "      <td>0</td>\n",
       "      <td>39.0</td>\n",
       "    </tr>\n",
       "    <tr>\n",
       "      <th>jacket</th>\n",
       "      <td>1</td>\n",
       "      <td>799.0</td>\n",
       "      <td>1113</td>\n",
       "      <td>4</td>\n",
       "      <td>10</td>\n",
       "      <td>809.0</td>\n",
       "    </tr>\n",
       "    <tr>\n",
       "      <th>notebook</th>\n",
       "      <td>6</td>\n",
       "      <td>25.8</td>\n",
       "      <td>1112</td>\n",
       "      <td>3</td>\n",
       "      <td>0</td>\n",
       "      <td>25.8</td>\n",
       "    </tr>\n",
       "  </tbody>\n",
       "</table>\n",
       "</div>"
      ],
      "text/plain": [
       "          Amount  Price  Time  assess  express  price_after\n",
       "eyeglass       1  316.0  1116       4       10        326.0\n",
       "pants          2  159.0  1116       5        0        159.0\n",
       "umbrella       1   39.0  1113       1        0         39.0\n",
       "jacket         1  799.0  1113       4       10        809.0\n",
       "notebook       6   25.8  1112       3        0         25.8"
      ]
     },
     "execution_count": 21,
     "metadata": {},
     "output_type": "execute_result"
    }
   ],
   "source": [
    "val = pd.Series([10, 0, 0, 10, 0], index=['eyeglass', 'pants', 'umbrella','jacket','notebook'])\n",
    "frame2['express'] = val\n",
    "frame2[\"price_after\"]=frame2[\"Price\"]+val\n",
    "frame2"
   ]
  },
  {
   "cell_type": "markdown",
   "metadata": {},
   "source": [
    "#### 按照价格从高到底排序"
   ]
  },
  {
   "cell_type": "code",
   "execution_count": 29,
   "metadata": {
    "collapsed": false
   },
   "outputs": [
    {
     "data": {
      "text/html": [
       "<div>\n",
       "<table border=\"1\" class=\"dataframe\">\n",
       "  <thead>\n",
       "    <tr style=\"text-align: right;\">\n",
       "      <th></th>\n",
       "      <th>Amount</th>\n",
       "      <th>Price</th>\n",
       "      <th>Time</th>\n",
       "      <th>assess</th>\n",
       "      <th>express</th>\n",
       "      <th>price_after</th>\n",
       "    </tr>\n",
       "  </thead>\n",
       "  <tbody>\n",
       "    <tr>\n",
       "      <th>jacket</th>\n",
       "      <td>1</td>\n",
       "      <td>799.0</td>\n",
       "      <td>1113</td>\n",
       "      <td>4</td>\n",
       "      <td>10</td>\n",
       "      <td>809.0</td>\n",
       "    </tr>\n",
       "    <tr>\n",
       "      <th>eyeglass</th>\n",
       "      <td>1</td>\n",
       "      <td>316.0</td>\n",
       "      <td>1116</td>\n",
       "      <td>4</td>\n",
       "      <td>10</td>\n",
       "      <td>326.0</td>\n",
       "    </tr>\n",
       "    <tr>\n",
       "      <th>pants</th>\n",
       "      <td>2</td>\n",
       "      <td>159.0</td>\n",
       "      <td>1116</td>\n",
       "      <td>5</td>\n",
       "      <td>0</td>\n",
       "      <td>159.0</td>\n",
       "    </tr>\n",
       "    <tr>\n",
       "      <th>umbrella</th>\n",
       "      <td>1</td>\n",
       "      <td>39.0</td>\n",
       "      <td>1113</td>\n",
       "      <td>1</td>\n",
       "      <td>0</td>\n",
       "      <td>39.0</td>\n",
       "    </tr>\n",
       "    <tr>\n",
       "      <th>notebook</th>\n",
       "      <td>6</td>\n",
       "      <td>25.8</td>\n",
       "      <td>1112</td>\n",
       "      <td>3</td>\n",
       "      <td>0</td>\n",
       "      <td>25.8</td>\n",
       "    </tr>\n",
       "  </tbody>\n",
       "</table>\n",
       "</div>"
      ],
      "text/plain": [
       "          Amount  Price  Time  assess  express  price_after\n",
       "jacket         1  799.0  1113       4       10        809.0\n",
       "eyeglass       1  316.0  1116       4       10        326.0\n",
       "pants          2  159.0  1116       5        0        159.0\n",
       "umbrella       1   39.0  1113       1        0         39.0\n",
       "notebook       6   25.8  1112       3        0         25.8"
      ]
     },
     "execution_count": 29,
     "metadata": {},
     "output_type": "execute_result"
    }
   ],
   "source": [
    "frame2.sort_values(by='Price',ascending=False)"
   ]
  },
  {
   "cell_type": "markdown",
   "metadata": {},
   "source": [
    "#### 按照收到的时间从低到高排序"
   ]
  },
  {
   "cell_type": "code",
   "execution_count": 23,
   "metadata": {
    "collapsed": false
   },
   "outputs": [
    {
     "data": {
      "text/html": [
       "<div>\n",
       "<table border=\"1\" class=\"dataframe\">\n",
       "  <thead>\n",
       "    <tr style=\"text-align: right;\">\n",
       "      <th></th>\n",
       "      <th>Amount</th>\n",
       "      <th>Price</th>\n",
       "      <th>Time</th>\n",
       "      <th>assess</th>\n",
       "      <th>express</th>\n",
       "      <th>price_after</th>\n",
       "    </tr>\n",
       "  </thead>\n",
       "  <tbody>\n",
       "    <tr>\n",
       "      <th>notebook</th>\n",
       "      <td>6</td>\n",
       "      <td>25.8</td>\n",
       "      <td>1112</td>\n",
       "      <td>3</td>\n",
       "      <td>0</td>\n",
       "      <td>25.8</td>\n",
       "    </tr>\n",
       "    <tr>\n",
       "      <th>umbrella</th>\n",
       "      <td>1</td>\n",
       "      <td>39.0</td>\n",
       "      <td>1113</td>\n",
       "      <td>1</td>\n",
       "      <td>0</td>\n",
       "      <td>39.0</td>\n",
       "    </tr>\n",
       "    <tr>\n",
       "      <th>jacket</th>\n",
       "      <td>1</td>\n",
       "      <td>799.0</td>\n",
       "      <td>1113</td>\n",
       "      <td>4</td>\n",
       "      <td>10</td>\n",
       "      <td>809.0</td>\n",
       "    </tr>\n",
       "    <tr>\n",
       "      <th>eyeglass</th>\n",
       "      <td>1</td>\n",
       "      <td>316.0</td>\n",
       "      <td>1116</td>\n",
       "      <td>4</td>\n",
       "      <td>10</td>\n",
       "      <td>326.0</td>\n",
       "    </tr>\n",
       "    <tr>\n",
       "      <th>pants</th>\n",
       "      <td>2</td>\n",
       "      <td>159.0</td>\n",
       "      <td>1116</td>\n",
       "      <td>5</td>\n",
       "      <td>0</td>\n",
       "      <td>159.0</td>\n",
       "    </tr>\n",
       "  </tbody>\n",
       "</table>\n",
       "</div>"
      ],
      "text/plain": [
       "          Amount  Price  Time  assess  express  price_after\n",
       "notebook       6   25.8  1112       3        0         25.8\n",
       "umbrella       1   39.0  1113       1        0         39.0\n",
       "jacket         1  799.0  1113       4       10        809.0\n",
       "eyeglass       1  316.0  1116       4       10        326.0\n",
       "pants          2  159.0  1116       5        0        159.0"
      ]
     },
     "execution_count": 23,
     "metadata": {},
     "output_type": "execute_result"
    }
   ],
   "source": [
    "frame2.sort_values(by='Time')"
   ]
  },
  {
   "cell_type": "markdown",
   "metadata": {},
   "source": [
    "#### 得到各样物品评价的排名"
   ]
  },
  {
   "cell_type": "code",
   "execution_count": 26,
   "metadata": {
    "collapsed": false
   },
   "outputs": [
    {
     "data": {
      "text/plain": [
       "eyeglass    4\n",
       "pants       5\n",
       "umbrella    1\n",
       "jacket      4\n",
       "notebook    3\n",
       "Name: assess, dtype: int64"
      ]
     },
     "execution_count": 26,
     "metadata": {},
     "output_type": "execute_result"
    }
   ],
   "source": [
    "series1 = frame2['assess']\n",
    "series1"
   ]
  },
  {
   "cell_type": "code",
   "execution_count": 28,
   "metadata": {
    "collapsed": false
   },
   "outputs": [
    {
     "data": {
      "text/plain": [
       "eyeglass    3.5\n",
       "pants       5.0\n",
       "umbrella    1.0\n",
       "jacket      3.5\n",
       "notebook    2.0\n",
       "Name: assess, dtype: float64"
      ]
     },
     "execution_count": 28,
     "metadata": {},
     "output_type": "execute_result"
    }
   ],
   "source": [
    "series1.rank()"
   ]
  },
  {
   "cell_type": "markdown",
   "metadata": {},
   "source": [
    "#### 计算一下这些物品的总花费、最大值、最小值和平均值"
   ]
  },
  {
   "cell_type": "code",
   "execution_count": 35,
   "metadata": {
    "collapsed": false
   },
   "outputs": [
    {
     "data": {
      "text/plain": [
       "1358.8"
      ]
     },
     "execution_count": 35,
     "metadata": {},
     "output_type": "execute_result"
    }
   ],
   "source": [
    "series2=frame2[\"price_after\"]\n",
    "series2.sum()"
   ]
  },
  {
   "cell_type": "code",
   "execution_count": 36,
   "metadata": {
    "collapsed": false
   },
   "outputs": [
    {
     "data": {
      "text/plain": [
       "count      5.000000\n",
       "mean     271.760000\n",
       "std      323.634498\n",
       "min       25.800000\n",
       "25%       39.000000\n",
       "50%      159.000000\n",
       "75%      326.000000\n",
       "max      809.000000\n",
       "Name: price_after, dtype: float64"
      ]
     },
     "execution_count": 36,
     "metadata": {},
     "output_type": "execute_result"
    }
   ],
   "source": [
    "series2.describe()"
   ]
  }
 ],
 "metadata": {
  "kernelspec": {
   "display_name": "Python 3",
   "language": "python",
   "name": "python3"
  },
  "language_info": {
   "codemirror_mode": {
    "name": "ipython",
    "version": 3
   },
   "file_extension": ".py",
   "mimetype": "text/x-python",
   "name": "python",
   "nbconvert_exporter": "python",
   "pygments_lexer": "ipython3",
   "version": "3.6.0"
  },
  "toc": {
   "base_numbering": 1,
   "nav_menu": {},
   "number_sections": true,
   "sideBar": true,
   "skip_h1_title": false,
   "title_cell": "Table of Contents",
   "title_sidebar": "Contents",
   "toc_cell": false,
   "toc_position": {},
   "toc_section_display": true,
   "toc_window_display": false
  }
 },
 "nbformat": 4,
 "nbformat_minor": 2
}
