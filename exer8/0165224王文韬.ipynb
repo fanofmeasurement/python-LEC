{
 "cells": [
  {
   "cell_type": "markdown",
   "metadata": {},
   "source": [
    "## 课程论文"
   ]
  },
  {
   "cell_type": "markdown",
   "metadata": {},
   "source": [
    " 请务必交到exer8文件夹下，**谢绝交到master下**\n",
    "+ 请不要改动任何文件，拜托\n",
    "+ 请于12月30日前先在github上提交\n",
    "+ 请在元旦后提交纸质版，将本页面文件先打印为pdf格式，再去打印店付印\n",
    "+ 请将论文模板和本页面文件一起装订，前者放上面，本页面文件放下面\n",
    "+ 纸质版提交时间和地点请留意微信群通知"
   ]
  },
  {
   "cell_type": "markdown",
   "metadata": {},
   "source": [
    "请写一下姓名和学号：\n",
    "+ 姓名  王文韬\n",
    "+ 学号  0165224"
   ]
  },
  {
   "cell_type": "markdown",
   "metadata": {},
   "source": [
    "### 样本均值分布的统计试验"
   ]
  },
  {
   "cell_type": "markdown",
   "metadata": {},
   "source": [
    "+ 请将CEPS.csv数据读入python\n",
    "+ 请从中随机抽取1000个数据\n",
    "+ 请根据问卷从数据中挑选两个连续型变量（likert量表可以近似看作连续变量）\n",
    "+ 计算这两个连续变量的均值\n",
    "+ 重复随机抽取—计算均值这个过程30次，得到两个变量30个样本均值\n",
    "+ 绘制这30个样本均值的直方图\n",
    "+ 计算均值的均值和标准误"
   ]
  },
  {
   "cell_type": "code",
   "execution_count": 14,
   "metadata": {
    "collapsed": true
   },
   "outputs": [],
   "source": [
    "%matplotlib inline\n",
    "import numpy as np\n",
    "import pandas as pd\n",
    "import matplotlib.pyplot as plt\n",
    "import matplotlib"
   ]
  },
  {
   "cell_type": "code",
   "execution_count": 15,
   "metadata": {
    "collapsed": false,
    "scrolled": true
   },
   "outputs": [],
   "source": [
    "#解决中文显示问题\n",
    "plt.rcParams['font.sans-serif']=['SimHei']\n",
    "plt.rcParams['axes.unicode_minus'] = False"
   ]
  },
  {
   "cell_type": "code",
   "execution_count": 16,
   "metadata": {
    "collapsed": false,
    "scrolled": true
   },
   "outputs": [
    {
     "name": "stderr",
     "output_type": "stream",
     "text": [
      "D:\\ProgramData\\lib\\site-packages\\IPython\\core\\interactiveshell.py:2717: DtypeWarning: Columns (20,22,23,25,28,29,39,49,74,124,125,126,127,128,129,130,131,138,140,141,147,160,161,162,165,170,174,175,176,177,179,180,181,182,183,184,188,191,194,195,196,199,221,222,223,224,251,252,254,289,290,294,295,296) have mixed types. Specify dtype option on import or set low_memory=False.\n",
      "  interactivity=interactivity, compiler=compiler, result=result)\n"
     ]
    }
   ],
   "source": [
    "df = pd.read_csv('CEPS.csv',encoding='gb2312')\n",
    "df = pd.DataFrame(df)"
   ]
  },
  {
   "cell_type": "code",
   "execution_count": 17,
   "metadata": {
    "collapsed": false
   },
   "outputs": [
    {
     "data": {
      "image/png": "[encoded data removed]",
      "text/plain": [
       "<matplotlib.figure.Figure at 0x94e3892048>"
      ]
     },
     "metadata": {},
     "output_type": "display_data"
    }
   ],
   "source": [
    "y=[]\n",
    "for i in range(30):             #均值计算重复三十次\n",
    "    df=df.sample(n=1000, frac=None, replace=False,  weights=None, random_state=None, axis=None)   \n",
    "                                #随机选取1000个样本\n",
    "    df=pd.DataFrame(df)\n",
    "    x1=df.a13              #挑选身高这一变量\n",
    "    for x2 in x1:               #将Dataframe转化为list\n",
    "        x2=x2.strip()           #去除空白字符\n",
    "        if x2==\"\":              #去除缺失值\n",
    "            continue\n",
    "        x=[]\n",
    "        x2=float(x2)            #将变量类型转化为float\n",
    "        x.append(x2)\n",
    "    x=pd.DataFrame(x)\n",
    "    y.append(x.mean())          #将样本均值添加到一个变量当中\n",
    "y1=[]\n",
    "for y2 in y:\n",
    "    y1.append(float(y2))\n",
    "y1\n",
    "x1=range(1,31)\n",
    "x1\n",
    "plt.bar(x1, y1)\n",
    " \n",
    "# 设置图表标题并给坐标轴加上标签\n",
    "# 设置刻度标记的大小\n",
    "plt.title('身高样本均值直方图', fontsize=24)\n",
    "plt.xlabel('抽取样本的次数', fontsize=14)\n",
    "plt.ylabel('身高均值', fontsize=14)\n",
    "plt.show()"
   ]
  },
  {
   "cell_type": "code",
   "execution_count": 18,
   "metadata": {
    "collapsed": false
   },
   "outputs": [
    {
     "name": "stdout",
     "output_type": "stream",
     "text": [
      "0    160.1\n",
      "dtype: float64\n",
      "0    5.85662\n",
      "dtype: float64\n"
     ]
    }
   ],
   "source": [
    "y=pd.DataFrame(y)               #将list转化为dataframe\n",
    "print(y.mean())                 #计算样本均值的均值\n",
    "print(y.std())                  #计算样本均值的标准差（标准误）"
   ]
  },
  {
   "cell_type": "code",
   "execution_count": 19,
   "metadata": {
    "collapsed": false
   },
   "outputs": [
    {
     "name": "stderr",
     "output_type": "stream",
     "text": [
      "D:\\ProgramData\\lib\\site-packages\\IPython\\core\\interactiveshell.py:2717: DtypeWarning: Columns (20,22,23,25,28,29,39,49,74,124,125,126,127,128,129,130,131,138,140,141,147,160,161,162,165,170,174,175,176,177,179,180,181,182,183,184,188,191,194,195,196,199,221,222,223,224,251,252,254,289,290,294,295,296) have mixed types. Specify dtype option on import or set low_memory=False.\n",
      "  interactivity=interactivity, compiler=compiler, result=result)\n"
     ]
    },
    {
     "data": {
      "image/png": "[encoded data removed]",
      "text/plain": [
       "<matplotlib.figure.Figure at 0x94d9353e48>"
      ]
     },
     "metadata": {},
     "output_type": "display_data"
    }
   ],
   "source": [
    "#第二个变量选取为体重，操作流程与代码与上一题大致相同\n",
    "df = pd.read_csv('CEPS.csv',encoding='gb2312')\n",
    "df = pd.DataFrame(df)\n",
    "\n",
    "y=[]\n",
    "for i in range(30):\n",
    "    df=df.sample(n=1000, frac=None, replace=False,  weights=None, random_state=None, axis=None)\n",
    "    df=pd.DataFrame(df)\n",
    "    x1=df.a14\n",
    "    for x2 in x1:\n",
    "        x2=x2.strip()\n",
    "        if x2==\"\":\n",
    "            continue\n",
    "        x=[]\n",
    "        x2=float(x2)\n",
    "        x.append(x2)\n",
    "    x=pd.DataFrame(x)\n",
    "    y.append(x.mean())\n",
    "y1=[]\n",
    "for y2 in y:\n",
    "    y1.append(float(y2))\n",
    "y1\n",
    "x1=range(1,31)\n",
    "x1\n",
    "plt.bar(x1, y1)\n",
    " \n",
    "# 设置图表标题并给坐标轴加上标签\n",
    "# 设置刻度标记的大小\n",
    "plt.title('体重样本均值直方图', fontsize=24)\n",
    "plt.xlabel('抽取样本的次数', fontsize=14)\n",
    "plt.ylabel('体重均值', fontsize=14)\n",
    "plt.show()"
   ]
  },
  {
   "cell_type": "code",
   "execution_count": 20,
   "metadata": {
    "collapsed": false
   },
   "outputs": [
    {
     "name": "stdout",
     "output_type": "stream",
     "text": [
      "0    96.5\n",
      "dtype: float64\n",
      "0    27.009258\n",
      "dtype: float64\n"
     ]
    }
   ],
   "source": [
    "y=pd.DataFrame(y)          #将list转化为dataframe\n",
    "print(y.mean())           #计算样本均值的均值\n",
    "print(y.std())            #计算样本均值的标准差（标准误）"
   ]
  },
  {
   "cell_type": "markdown",
   "metadata": {},
   "source": [
    "### 回归分析"
   ]
  },
  {
   "cell_type": "markdown",
   "metadata": {},
   "source": [
    "+ 请从CEPS.csv数据里挑选若干变量建立回归方程，要求至少三个自变量\n",
    "    + 如，学生的学业成绩受认知水平、家庭收入的影响\n",
    "    + 考虑因变量和自变量间的实质关系，变量间关系应该是有意义\n",
    "    + 选择自变量时，注意变量的类型，如果是分类变量，需要进行编码\n",
    "+ 请报告回归方程的结果，需要包括：\n",
    "    + 模型拟合指标\n",
    "    + 模型的显著性检验结果\n",
    "    + 变量的系数\n",
    "    + 各系数的显著性检验结果\n",
    "    + 对模型结果的解释\n",
    "    "
   ]
  },
  {
   "cell_type": "code",
   "execution_count": 21,
   "metadata": {
    "collapsed": false
   },
   "outputs": [],
   "source": [
    "%matplotlib inline\n",
    "import csv\n",
    "import matplotlib.pyplot as plt\n",
    "from itertools import islice\n",
    "import statsmodels.api as sm\n",
    "import statsmodels.formula.api as smf\n",
    "import pandas as pd\n",
    "import numpy as np"
   ]
  },
  {
   "cell_type": "code",
   "execution_count": 24,
   "metadata": {
    "collapsed": false,
    "scrolled": true
   },
   "outputs": [
    {
     "name": "stderr",
     "output_type": "stream",
     "text": [
      "D:\\ProgramData\\lib\\site-packages\\IPython\\core\\interactiveshell.py:2717: DtypeWarning: Columns (20,22,23,25,28,29,39,49,124,125,126,127,128,129,130,131,138,140,141,147,160,161,162,165,170,174,175,176,177,179,180,181,182,183,184,188,191,195,196,199,221,222,223,224,251,252,254,289,290,294,295,296) have mixed types. Specify dtype option on import or set low_memory=False.\n",
      "  interactivity=interactivity, compiler=compiler, result=result)\n"
     ]
    },
    {
     "name": "stdout",
     "output_type": "stream",
     "text": [
      "                            OLS Regression Results                            \n",
      "==============================================================================\n",
      "Dep. Variable:                      y   R-squared:                       0.806\n",
      "Model:                            OLS   Adj. R-squared:                  0.805\n",
      "Method:                 Least Squares   F-statistic:                     1334.\n",
      "Date:                Tue, 25 Dec 2018   Prob (F-statistic):               0.00\n",
      "Time:                        16:18:29   Log-Likelihood:                -1729.2\n",
      "No. Observations:                 966   AIC:                             3464.\n",
      "Df Residuals:                     963   BIC:                             3479.\n",
      "Df Model:                           3                                         \n",
      "Covariance Type:            nonrobust                                         \n",
      "==============================================================================\n",
      "                 coef    std err          t      P>|t|      [95.0% Conf. Int.]\n",
      "------------------------------------------------------------------------------\n",
      "x1             0.7815      0.020     38.192      0.000         0.741     0.822\n",
      "x2             0.1162      0.018      6.390      0.000         0.081     0.152\n",
      "x3             0.1183      0.104      1.139      0.255        -0.086     0.322\n",
      "==============================================================================\n",
      "Omnibus:                        5.935   Durbin-Watson:                   1.955\n",
      "Prob(Omnibus):                  0.051   Jarque-Bera (JB):                4.457\n",
      "Skew:                          -0.021   Prob(JB):                        0.108\n",
      "Kurtosis:                       2.670   Cond. No.                         9.63\n",
      "==============================================================================\n",
      "\n",
      "Warnings:\n",
      "[1] Standard Errors assume that the covariance matrix of the errors is correctly specified.\n"
     ]
    }
   ],
   "source": [
    "#自变量：b12：家中藏书  b14a1：每天花多少时间写作业  b21:在寒暑假一般都做什么  \n",
    "#因变量：c12：目前成绩所处水平\n",
    "\n",
    "\n",
    "sentinels = {'c12': [' '], 'b12': [' '], 'b14a1': [' '] ,'b2101': [' ']}\n",
    "df = pd.read_csv('CEPS.csv',encoding='gb2312', na_values=sentinels)\n",
    "dfg = df.sample(n=1000)\n",
    "\n",
    "sple = pd.DataFrame({\n",
    "    'y': dfg.c12,\n",
    "    'x1': dfg.b12,\n",
    "    'x2': dfg.b14a1,\n",
    "    'x3': dfg.b2101,\n",
    "})\n",
    "sple=sple.dropna(axis=0,how='any')#删除缺失值\n",
    "\n",
    "\n",
    "model_x = ['x1','x2','x3']\n",
    "x = sple.loc[ :,model_x].values\n",
    "#构建因变量\n",
    "y = sple['y'].values\n",
    "\n",
    "\n",
    "\n",
    "model = sm.OLS(y, x) \n",
    "#拟合ols回归\n",
    "results = model.fit()\n",
    "results.params\n",
    "\n",
    "#输出结果\n",
    "print(results.summary())\n",
    "\n",
    "\n"
   ]
  },
  {
   "cell_type": "code",
   "execution_count": null,
   "metadata": {
    "collapsed": true
   },
   "outputs": [],
   "source": [
    "#1.模型拟合指标： 决定系数R-squared=0.806>0.8，说明模型的拟合效果较好。\n",
    "\n",
    "#2.模型的显著性检验结果:该模型x3的P值大于0.05,所以在该模型中自变量没有显著线性关系作用，可剔除.\n",
    "\n",
    "#3、变量的系数： x1的系数为:0.7815, x2的系数为:0.1162, x3的系数为：0.1183\n",
    "\n",
    "#4、各系数的显著性检验结果： 全部 p值<0.05，说明这3个自变量的效果都是显著的。\n",
    "\n",
    "#5、对模型结果的解释： 与现实生活经验相符，每天花多少时间写作业与孩子最后的学习成绩息息相关，而函数建一般干什么也有一定的关系。"
   ]
  }
 ],
 "metadata": {
  "kernelspec": {
   "display_name": "Python 3",
   "language": "python",
   "name": "python3"
  },
  "language_info": {
   "codemirror_mode": {
    "name": "ipython",
    "version": 3
   },
   "file_extension": ".py",
   "mimetype": "text/x-python",
   "name": "python",
   "nbconvert_exporter": "python",
   "pygments_lexer": "ipython3",
   "version": "3.6.0"
  },
  "toc": {
   "base_numbering": 1.0,
   "nav_menu": {},
   "number_sections": true,
   "sideBar": true,
   "skip_h1_title": false,
   "title_cell": "Table of Contents",
   "title_sidebar": "Contents",
   "toc_cell": false,
   "toc_position": {},
   "toc_section_display": true,
   "toc_window_display": false
  }
 },
 "nbformat": 4,
 "nbformat_minor": 2
}
