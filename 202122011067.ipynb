{
 "cells": [
  {
   "cell_type": "markdown",
   "metadata": {},
   "source": [
    "# 题目一"
   ]
  },
  {
   "cell_type": "markdown",
   "metadata": {},
   "source": [
    "请把这个核酸序列存入一个list，并数一数A、G、C、T各有多少个。"
   ]
  },
  {
   "cell_type": "code",
   "execution_count": 1,
   "metadata": {},
   "outputs": [
    {
     "data": {
      "text/plain": [
       "[20, 17, 12, 21]"
      ]
     },
     "execution_count": 1,
     "metadata": {},
     "output_type": "execute_result"
    }
   ],
   "source": [
    "a=['AGCTTTTCATTCTGACTGCAACGGGCAATATGTCTCTGTGTGGATTAAAAAAAGAGTGTCTGATAGCAGC']\n",
    "num=[0,0,0,0]\n",
    "def number(str,list):\n",
    "    for value in str[0]:\n",
    "        if value=='A':\n",
    "            num[0]+=1\n",
    "        if value=='G':\n",
    "            num[1]+=1\n",
    "        if value=='C':\n",
    "            num[2]+=1\n",
    "        if value=='T':\n",
    "            num[3]+=1\n",
    "    return(num)\n",
    "\n",
    "number(a,num)"
   ]
  },
  {
   "cell_type": "markdown",
   "metadata": {},
   "source": [
    "# 题目二 "
   ]
  },
  {
   "cell_type": "markdown",
   "metadata": {},
   "source": [
    "一个花样滑冰运动员表演后，裁判给表演内容进行评分，分数从0.25分到10分，每次增加值为0.25分。\n",
    "\n",
    "试生成一个元组，把可能的得分存入元组，并遍历元组的每一项，打印“一个运动员可能得_____分”。"
   ]
  },
  {
   "cell_type": "code",
   "execution_count": 2,
   "metadata": {},
   "outputs": [
    {
     "name": "stdout",
     "output_type": "stream",
     "text": [
      "一个运动员可能得0.0分\n",
      "一个运动员可能得0.25分\n",
      "一个运动员可能得0.5分\n",
      "一个运动员可能得0.75分\n",
      "一个运动员可能得1.0分\n",
      "一个运动员可能得1.25分\n",
      "一个运动员可能得1.5分\n",
      "一个运动员可能得1.75分\n",
      "一个运动员可能得2.0分\n",
      "一个运动员可能得2.25分\n",
      "一个运动员可能得2.5分\n",
      "一个运动员可能得2.75分\n",
      "一个运动员可能得3.0分\n",
      "一个运动员可能得3.25分\n",
      "一个运动员可能得3.5分\n",
      "一个运动员可能得3.75分\n",
      "一个运动员可能得4.0分\n",
      "一个运动员可能得4.25分\n",
      "一个运动员可能得4.5分\n",
      "一个运动员可能得4.75分\n",
      "一个运动员可能得5.0分\n",
      "一个运动员可能得5.25分\n",
      "一个运动员可能得5.5分\n",
      "一个运动员可能得5.75分\n",
      "一个运动员可能得6.0分\n",
      "一个运动员可能得6.25分\n",
      "一个运动员可能得6.5分\n",
      "一个运动员可能得6.75分\n",
      "一个运动员可能得7.0分\n",
      "一个运动员可能得7.25分\n",
      "一个运动员可能得7.5分\n",
      "一个运动员可能得7.75分\n",
      "一个运动员可能得8.0分\n",
      "一个运动员可能得8.25分\n",
      "一个运动员可能得8.5分\n",
      "一个运动员可能得8.75分\n",
      "一个运动员可能得9.0分\n",
      "一个运动员可能得9.25分\n",
      "一个运动员可能得9.5分\n",
      "一个运动员可能得9.75分\n",
      "一个运动员可能得10.0分\n"
     ]
    }
   ],
   "source": [
    "import numpy as np\n",
    "score=(np.arange(0,10.1,0.25))\n",
    "\n",
    "    \n",
    "for i in score:\n",
    "    print('一个运动员可能得{}分'.format(i))"
   ]
  },
  {
   "cell_type": "markdown",
   "metadata": {},
   "source": [
    "# 题目三 "
   ]
  },
  {
   "cell_type": "markdown",
   "metadata": {},
   "source": [
    "创建一个字典，列出你所了解的地域美食，比如{'肠粉':{'城市':'广州','原料':'米'}}。当然，你可以做的更丰富一些。 最后遍历你熟悉的美食，打印出，类似如下的句子：“肠粉是广州的一种美食，它的主要原料是米”。"
   ]
  },
  {
   "cell_type": "code",
   "execution_count": 3,
   "metadata": {},
   "outputs": [
    {
     "name": "stdout",
     "output_type": "stream",
     "text": [
      "\n",
      "肠粉是广州的一种美食，它的主要原料是米\n",
      "\n",
      "烩面是郑州的一种美食，它的主要原料是面条\n",
      "\n",
      "胡辣汤是郑州的一种美食，它的主要原料是牛肉、面粉\n"
     ]
    }
   ],
   "source": [
    "food={}\n",
    "food['肠粉']={'城市':'广州','原料':'米'}\n",
    "food['烩面']={'城市':'郑州','原料':'面条'}\n",
    "food['胡辣汤']={'城市':'郑州','原料':'牛肉、面粉'}\n",
    "\n",
    "for keys,values in food.items():\n",
    "    print('\\n{0}是{1}的一种美食，它的主要原料是{2}'.format(keys,values['城市'],values['原料']))"
   ]
  }
 ],
 "metadata": {
  "kernelspec": {
   "display_name": "Python 3",
   "language": "python",
   "name": "python3"
  },
  "language_info": {
   "codemirror_mode": {
    "name": "ipython",
    "version": 3
   },
   "file_extension": ".py",
   "mimetype": "text/x-python",
   "name": "python",
   "nbconvert_exporter": "python",
   "pygments_lexer": "ipython3",
   "version": "3.7.4"
  },
  "toc": {
   "base_numbering": 1,
   "nav_menu": {},
   "number_sections": false,
   "sideBar": true,
   "skip_h1_title": false,
   "title_cell": "Table of Contents",
   "title_sidebar": "Contents",
   "toc_cell": false,
   "toc_position": {
    "height": "calc(100% - 180px)",
    "left": "10px",
    "top": "150px",
    "width": "309.933px"
   },
   "toc_section_display": true,
   "toc_window_display": false
  }
 },
 "nbformat": 4,
 "nbformat_minor": 2
}
